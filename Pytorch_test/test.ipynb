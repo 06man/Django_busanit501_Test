{
 "cells": [
  {
   "cell_type": "code",
   "id": "initial_id",
   "metadata": {
    "collapsed": true,
    "ExecuteTime": {
     "end_time": "2025-03-13T06:35:58.293962Z",
     "start_time": "2025-03-13T06:35:52.703939Z"
    }
   },
   "source": [
    "import torch\n",
    "\n",
    "# (1) 0~11까지의 숫자로 된 텐서 생성\n",
    "x = torch.arange(12)\n",
    "print(\"원본 텐서:\", x)\n",
    "\n",
    "# (2) 무작위로 섞기\n",
    "shuffled_x = x[torch.randperm(12)]\n",
    "print(\"섞인 텐서:\", shuffled_x)\n",
    "\n",
    "# (3) 3개로 나누기\n",
    "chunks = torch.chunk(shuffled_x, chunks=3)\n",
    "print(\"첫 번째 부분:\", chunks[0])\n",
    "print(\"두 번째 부분:\", chunks[1])\n",
    "print(\"세 번째 부분:\", chunks[2])"
   ],
   "outputs": [
    {
     "name": "stdout",
     "output_type": "stream",
     "text": [
      "원본 텐서: tensor([ 0,  1,  2,  3,  4,  5,  6,  7,  8,  9, 10, 11])\n",
      "섞인 텐서: tensor([ 0,  9, 10,  8,  5,  4,  2,  1, 11,  6,  7,  3])\n",
      "첫 번째 부분: tensor([ 0,  9, 10,  8])\n",
      "두 번째 부분: tensor([5, 4, 2, 1])\n",
      "세 번째 부분: tensor([11,  6,  7,  3])\n"
     ]
    }
   ],
   "execution_count": 1
  }
 ],
 "metadata": {
  "kernelspec": {
   "display_name": "Python 3",
   "language": "python",
   "name": "python3"
  },
  "language_info": {
   "codemirror_mode": {
    "name": "ipython",
    "version": 2
   },
   "file_extension": ".py",
   "mimetype": "text/x-python",
   "name": "python",
   "nbconvert_exporter": "python",
   "pygments_lexer": "ipython2",
   "version": "2.7.6"
  }
 },
 "nbformat": 4,
 "nbformat_minor": 5
}
